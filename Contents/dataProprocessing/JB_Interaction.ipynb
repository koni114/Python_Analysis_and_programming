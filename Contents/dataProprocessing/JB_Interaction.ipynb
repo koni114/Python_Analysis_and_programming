{
  "nbformat": 4,
  "nbformat_minor": 0,
  "metadata": {
    "colab": {
      "name": "JB_Interaction.ipynb",
      "provenance": [],
      "collapsed_sections": []
    },
    "kernelspec": {
      "name": "python3",
      "display_name": "Python 3"
    }
  },
  "cells": [
    {
      "cell_type": "markdown",
      "metadata": {
        "id": "jkv6_JuUDt8r"
      },
      "source": [
        "### 다항차수 변환, 교호작용 변수 생성\r\n",
        "- sklearn.preprocessing.PolynomialFeatures function을 활용한 다항차수 변환 및 교호작용 생성\r\n",
        "- 다항 차수를 생성해서 비선형 관계를 표현하거나, 변수간 곱을 사용해서 교호작용 효과를 나타낼 수 있는 변수를 만듬"
      ]
    },
    {
      "cell_type": "code",
      "metadata": {
        "colab": {
          "base_uri": "https://localhost:8080/"
        },
        "id": "jDmKECMYD3Gu",
        "outputId": "555b9011-90b8-4b87-b7d9-b246ae166dad"
      },
      "source": [
        "import numpy as np\r\n",
        "import pandas as pd\r\n",
        "from sklearn.preprocessing import PolynomialFeatures\r\n",
        "X = np.arange(6).reshape(3, 2)\r\n",
        "\r\n",
        "# (1) sklearn.preprocessing.PolynomialFeatures \r\n",
        "# transform from (x1, x2) to (1, x1, x2, x1^2, x1*x2, x2^2)\r\n",
        "poly = PolynomialFeatures(degree = 2)\r\n",
        "poly.fit_transform(X)\r\n",
        "\r\n",
        "# transform from (x1, x2, x3) to (1, x1, x2, x3, x1^2, x1*x2, x1*x3, x2^2, x2*x3, x3^2)\r\n",
        "X = np.arange(9).reshape(3, 3)\r\n",
        "poly.fit_transform(X)\r\n",
        "\r\n",
        "# (2) 교호작용 변수만을 만들기 : interaction_only = True\r\n",
        "# transform from (x1, x2, x3) to (1, x1, x2, x3, x1*x2, x1*x3, x2*x3)\r\n",
        "poly_itrOnly = PolynomialFeatures(degree = 2, interaction_only = True)  \r\n",
        "poly_itrOnly.fit_transform(X)\r\n",
        "\r\n",
        "# transform from (x1, x2, x3) to (1, x1, x2, x3, x1*x2, x1*x3, x2*x3, x1*x2*x3)\r\n",
        "poly_itrOnly = PolynomialFeatures(degree = 3, interaction_only = True)  \r\n",
        "poly_itrOnly.fit_transform(X)"
      ],
      "execution_count": null,
      "outputs": [
        {
          "output_type": "execute_result",
          "data": {
            "text/plain": [
              "array([[  1.,   0.,   1.,   2.,   0.,   0.,   2.,   0.],\n",
              "       [  1.,   3.,   4.,   5.,  12.,  15.,  20.,  60.],\n",
              "       [  1.,   6.,   7.,   8.,  42.,  48.,  56., 336.]])"
            ]
          },
          "metadata": {
            "tags": []
          },
          "execution_count": 10
        }
      ]
    }
  ]
}