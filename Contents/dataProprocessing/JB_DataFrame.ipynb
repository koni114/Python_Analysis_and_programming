{
  "nbformat": 4,
  "nbformat_minor": 0,
  "metadata": {
    "colab": {
      "name": "JB_DataFrame.ipynb",
      "provenance": [],
      "collapsed_sections": []
    },
    "kernelspec": {
      "name": "python3",
      "display_name": "Python 3"
    }
  },
  "cells": [
    {
      "cell_type": "markdown",
      "metadata": {
        "id": "9aeQkTAOlKdG"
      },
      "source": [
        "## pandas DataFrame 완벽 정리!"
      ]
    },
    {
      "cell_type": "code",
      "metadata": {
        "id": "mYSvIbeulXCv"
      },
      "source": [
        "### DataFrame 만들고, Attributes 조회하기\r\n",
        "import numpy as np\r\n",
        "import pandas as pd\r\n",
        "\r\n",
        "df_1 = pd.DataFrame(data  = np.arange(12).reshape(3, 4),\r\n",
        "             index = ['r0', 'r1', 'r2'],\r\n",
        "             columns = ['c0', 'c1', 'c2', 'c3'],\r\n",
        "             dtype = 'int',\r\n",
        "             copy  = False)\r\n",
        "\r\n",
        "#- DataFrame attributes 조회하기\r\n",
        "### (1) T : 행렬과 전치(transpose)\r\n",
        "df_1.T\r\n",
        "\r\n",
        "### (2) axes : 행과 열 이름을 리스트로 반환\r\n",
        "df_1.axes\r\n",
        "\r\n",
        "### (3) dtypes : 데이터 형태 반환 \r\n",
        "df_1.dtypes\r\n",
        "\r\n",
        "### (4) shape : 행과 열의 개수를 튜플로 반환\r\n",
        "df_1.shape\r\n",
        "\r\n",
        "### (5) size : 전체 DataFrame의 len을 반환\r\n",
        "df_1.size\r\n",
        "\r\n",
        "### (6) values : dataFrame의 원소를 numpy로 반환\r\n",
        "df_1.values\r\n",
        "\r\n",
        "### (7) 컬럼 확인\r\n",
        "df_1.columns\r\n",
        "\r\n",
        "### (8) 열 슬라이싱\r\n",
        "df_1[['c0', 'c1']]"
      ],
      "execution_count": null,
      "outputs": []
    },
    {
      "cell_type": "markdown",
      "metadata": {
        "id": "tpZ4kxAZpPNm"
      },
      "source": [
        "### DataFrame의 index 재설정(reindex) 와 결측값 채우기"
      ]
    },
    {
      "cell_type": "code",
      "metadata": {
        "id": "BDlzOW7OpZ2H"
      },
      "source": [
        "idx = ['r0', 'r1', 'r2', 'r3', 'r4']\r\n",
        "\r\n",
        "df_1 = pd.DataFrame({\r\n",
        "    'c1': np.arange(5),\r\n",
        "    'c2': np.random.randn(5)},\r\n",
        "     index = idx)\r\n",
        "\r\n",
        "# index -> ['r0', 'r1', 'r2', 'r3', 'r4'] 에서 ['r3', 'r4'] 는 제거하고, ['r5', 'r6'] 추가\r\n",
        "new_idx = ['r0', 'r1', 'r2', 'r5', 'r6']\r\n",
        "df_1.reindex(new_idx, fill_value = 0)\r\n",
        "\r\n",
        "# (2) 시계열 데이터 reindex 하기\r\n",
        "## (2-0) 시계열 데이터의 index 생성시, pd.date_range(date, periods, freq)를 사용\r\n",
        "date_idx = pd.date_range('11/27/2016', periods = 5, freq = 'D')\r\n",
        "print(\"date_idx : \", date_idx)\r\n",
        "\r\n",
        "df_2 = pd.DataFrame({\"c1\":[10, 20, 30, 40, 50]}, index = date_idx)\r\n",
        "df_2\r\n",
        "\r\n",
        "## (2-1) 시계열 데이터 인덱스 재설정 하기\r\n",
        "date_idx_2 = pd.date_range('11/25/2016', periods = 10, freq = 'D')\r\n",
        "df_2.reindex(date_idx_2)\r\n",
        "\r\n",
        "## (2-2) 시계열 데이터 reindex 과정에서 생긴 결측값 채우기 : method = \"ffill\"\r\n",
        "# method = \"ffill\" --> 결측값 이전값으로 채움\r\n",
        "# method = \"bfill\" --> 시간 뒷 순서의 결측값으로 채움 \r\n",
        "df_2.reindex(date_idx_2, method = 'ffill')"
      ],
      "execution_count": null,
      "outputs": []
    },
    {
      "cell_type": "markdown",
      "metadata": {
        "id": "c1XwRmVWpkSR"
      },
      "source": [
        "### 여러 동일한 형태 DataFrame 합치기"
      ]
    },
    {
      "cell_type": "markdown",
      "metadata": {
        "id": "N3saoqNFrztw"
      },
      "source": [
        "#### pd.concat function\r\n",
        "- objs,         : 병합할 객체\r\n",
        "- axis,         : 0: 위 + 아래로 합치기, 1: 왼쪽 + 오른쪽으로 합치기\r\n",
        "- join,         : 'outer' -> 합집합, 'inner' -> 교집합\r\n",
        "- ignore_index, : False -> 기존 index 유지, True -> 기존 index 무시 \r\n",
        "- keys,         :      \r\n",
        "- levels,       :  \r\n",
        "- names,        : 인덱스 입력시 튜플 입력\r\n",
        "- verify_integrity, : index 중복 확인\r\n",
        "- copy,             : 복사"
      ]
    },
    {
      "cell_type": "code",
      "metadata": {
        "id": "EOT3eddAvFzq"
      },
      "source": [
        "df_1 = pd.DataFrame({\r\n",
        "  'A': ['A0', 'A1', 'A2'],\r\n",
        "  'B': ['B0', 'B1', 'B2'],\r\n",
        "  'C': ['C0', 'C1', 'C2'],\r\n",
        "  'D': ['D0', 'D1', 'D2']},\r\n",
        "    index=[0, 1, 2])\r\n",
        "\r\n",
        "df_2 = pd.DataFrame({\r\n",
        "    'A': ['A3', 'A4', 'A5'],\r\n",
        "    'B': ['B3', 'B4', 'B5'],\r\n",
        "    'C': ['C3', 'C4', 'C5'],\r\n",
        "    'D': ['D3', 'D4', 'D5']},\r\n",
        "    index=[3, 4, 5])\r\n",
        "\r\n",
        "df_3 = pd.DataFrame({\r\n",
        "    'E': ['A3', 'A4', 'A5'],\r\n",
        "    'F': ['B3', 'B4', 'B5'],\r\n",
        "    'G': ['C3', 'C4', 'C5'],\r\n",
        "    'H': ['D3', 'D4', 'D5']},\r\n",
        "    index=[0, 1, 2])\r\n",
        "\r\n",
        "df_4 = pd.DataFrame({\r\n",
        "    'A': ['A3', 'A4', 'A5'],\r\n",
        "    'B': ['B3', 'B4', 'B5'],\r\n",
        "    'C': ['C3', 'C4', 'C5'],\r\n",
        "    'E': ['D3', 'D4', 'D5']},\r\n",
        "    index=[0, 1, 3])\r\n",
        "\r\n",
        "pd.concat([df_1, df_2], axis = 0) #- 위,아래\r\n",
        "pd.concat([df_1, df_3], axis = 1) #- 왼쪽, 오른쪽, ** 인덱스 명이 같아야 가능한 듯\r\n",
        "pd.concat([df_1, df_4], join = 'outer')\r\n",
        "pd.concat([df_1, df_4], join = 'inner')\r\n",
        "\r\n",
        "#- axis = 1인 경우, join = 'outer', join = 'inner', reindex(df.index) 3가지 비교\r\n",
        "#- --> index를 잘 살펴보자\r\n",
        "pd.concat([df_1, df_4], axis = 1, join = 'outer')\r\n",
        "pd.concat([df_1, df_4], axis = 1, join = 'inner')\r\n",
        "pd.concat([df_1, df_4], axis = 1).reindex(df_1.index)\r\n",
        "pd.concat([df_1, df_4], axis = 1).reindex(df_4.index)\r\n",
        "\r\n",
        "#- 기존 인덱스를 무시하고 싶을 때, --> ignore_index\r\n",
        "\r\n",
        "df_5 = pd.DataFrame({\r\n",
        "  'A': ['A0', 'A1', 'A2'],\r\n",
        "  'B': ['B0', 'B1', 'B2'],\r\n",
        "  'C': ['C0', 'C1', 'C2'],\r\n",
        "  'D': ['D0', 'D1', 'D2']},\r\n",
        "    index=['r0', 'r1', 'r2'])\r\n",
        "\r\n",
        "df_6 = pd.DataFrame({\r\n",
        "  'A': ['A0', 'A1', 'A2'],\r\n",
        "  'B': ['B0', 'B1', 'B2'],\r\n",
        "  'C': ['C0', 'C1', 'C2'],\r\n",
        "  'D': ['D0', 'D1', 'D2']},\r\n",
        "    index=['r3', 'r4', 'r5'])\r\n",
        "\r\n",
        "pd.concat([df_5, df_6], ignore_index = False)\r\n",
        "pd.concat([df_5, df_6], ignore_index = True)\r\n",
        "\r\n",
        "#- 계층적 index 만들기 : keys function\r\n",
        "df_with_keys = pd.concat([df_5, df_6], keys = ['df_5', 'df_6'])\r\n",
        "df_with_keys.loc['df_5'][0:2]\r\n",
        "df_with_keys.loc['df_6'][0:2]\r\n",
        "\r\n",
        "#- index에 이름 부여하기 : names\r\n",
        "pd.concat([df_5, df_6], keys = ['df_5', 'df_6'], names = ['df_name', 'row_number'])\r\n",
        "\r\n",
        "#- index 중복 여부 점검 : verify_integrity\r\n",
        "#- 만약 중복된 index가 있는 경우 error 발생\r\n",
        "\r\n",
        "df_7 = pd.DataFrame({\r\n",
        "  'A': ['A0', 'A1', 'A2'],\r\n",
        "  'B': ['B0', 'B1', 'B2'],\r\n",
        "  'C': ['C0', 'C1', 'C2'],\r\n",
        "  'D': ['D0', 'D1', 'D2']},\r\n",
        "    index=['r0', 'r1', 'r2'])\r\n",
        "\r\n",
        "df_8 = pd.DataFrame({\r\n",
        "  'A': ['A0', 'A1', 'A2'],\r\n",
        "  'B': ['B0', 'B1', 'B2'],\r\n",
        "  'C': ['C0', 'C1', 'C2'],\r\n",
        "  'D': ['D0', 'D1', 'D2']},\r\n",
        "    index=['r2', 'r3', 'r4'])\r\n",
        "\r\n",
        "pd.concat([df_7, df_8], verify_integrity = True)\r\n",
        "# ValueError: Indexes have overlapping values: Index(['r2'], dtype='object')"
      ],
      "execution_count": null,
      "outputs": []
    },
    {
      "cell_type": "markdown",
      "metadata": {
        "id": "C8za6lzeOPGN"
      },
      "source": [
        "### DataFrame과 Series 합치기 : pd.concat, append"
      ]
    },
    {
      "cell_type": "code",
      "metadata": {
        "id": "P5Bb59f9O9HJ"
      },
      "source": [
        "import pandas as pd\r\n",
        "\r\n",
        "df_1 = pd.DataFrame({\r\n",
        "  'A': ['A0', 'A1', 'A2'],\r\n",
        "  'B': ['B0', 'B1', 'B2'],\r\n",
        "  'C': ['C0', 'C1', 'C2'],\r\n",
        "  'D': ['D0', 'D1', 'D2']},\r\n",
        "    index=[0, 1, 2])\r\n",
        "\r\n",
        "#- DataFrame에 Series 열 병합 하기 --> pd.concat([df, Series], axis = 1)\r\n",
        "#- pd.Series 생성시, name 파라미터 값을 문자열로 지정하면 DataFrame 병합 시 컬럼명으로 지정됨\r\n",
        "\r\n",
        "s1 = pd.Series([\"E0\", \"E1\", \"E2\"], name = \"E\")\r\n",
        "pd.concat([df_1, s1], axis = 1)\r\n",
        "\r\n",
        "#- 열 이름 무시하고, 자동 sequence 부여 : ignore_index = True\r\n",
        "pd.concat([df_1, s1], axis = 1, ignore_index = True) \r\n",
        "\r\n",
        "#- Series끼리 자동으로 합치기\r\n",
        "s2 = pd.Series([\"A0\", \"A1\", \"A2\"])\r\n",
        "s3 = pd.Series([\"D0\", \"D1\", \"D2\"])\r\n",
        "pd.concat([s1, s2, s3], axis = 1) #- name 이 없는 Series는 Sequence 자동 발번\r\n",
        "pd.concat([s1, s2, s3], axis = 1, keys = ['C0','C1','C2'])\r\n",
        "\r\n",
        "#- 위 + 아래로 합치기 : df.append(Series)\r\n",
        "#- ignore_index 를 True로 지정해주자, 그렇지 않으면 다음과 같은 error 발생\r\n",
        "#- TypeError: Can only append a Series if ignore_index=True or if the Series has a name\r\n",
        "\r\n",
        "Series_4 = pd.Series(['S1', 'S2', 'S3', 'S4'], index = ['A', 'B', 'C', 'E'])\r\n",
        "df_1.append(Series_4, ignore_index = True)"
      ],
      "execution_count": null,
      "outputs": []
    },
    {
      "cell_type": "markdown",
      "metadata": {
        "id": "u1yo3LqWRE2_"
      },
      "source": [
        "### DataFrame join/merge 하기 : pd.merge"
      ]
    },
    {
      "cell_type": "markdown",
      "metadata": {
        "id": "TO4vs5IRRVoL"
      },
      "source": [
        "### pd.merge function\r\n",
        "- left, right,          # merge할 DataFrame 객체 이름\r\n",
        "- how='inner',          # left, rigth, inner (default), outer\r\n",
        "- on=None,              # merge의 기준이 되는 Key 변수\r\n",
        "- left_on=None,         # 왼쪽 DataFrame의 변수를 Key로 사용\r\n",
        "- right_on=None,        # 오른쪽 DataFrame의 변수를 Key로 사용\r\n",
        "- left_index=False,     # 만약 True 라면, 왼쪽 DataFrame의 index를 merge Key로 사용\r\n",
        "- right_index=False,     # 만약 True 라면, 오른쪽 DataFrame의 index를 merge Key로 사용\r\n",
        "- sort=True,             # merge된 후의 DataFrame을 join Key 기준으로 정렬\r\n",
        "- suffixes=('_x', '_y'), # 중복되는 변수 이름에 대해 접두사 부여 (defaults to '_x', '_y')\r\n",
        "- copy=True,             # merge할 DataFrame을 복사\r\n",
        "- indicator=False"
      ]
    },
    {
      "cell_type": "code",
      "metadata": {
        "id": "HkluCBw5SHCv"
      },
      "source": [
        "import pandas as pd\r\n",
        "df_left = pd.DataFrame({\r\n",
        "    'KEY': ['K0', 'K1', 'K2', 'K3'],\r\n",
        "    'A': ['A0', 'A1', 'A2', 'A3'],\r\n",
        "    'B': ['B0', 'B1', 'B2', 'B3']})\r\n",
        "\r\n",
        "df_right = pd.DataFrame({\r\n",
        "    'KEY': ['K2', 'K3', 'K4', 'K5'],\r\n",
        "    'C': ['C2', 'C3', 'C4', 'C5'],\r\n",
        "    'D': ['D2', 'D3', 'D4', 'D5']})\r\n",
        "\r\n",
        "#- SQL : LEFT OUTER JOIN\r\n",
        "df_merge_left = pd.merge(df_left, df_right, how = 'left', on = 'KEY')\r\n",
        "df_merge_left\r\n",
        "\r\n",
        "#- SQL : RIGHT OUTER JOIN\r\n",
        "df_merge_right = pd.merge(df_left, df_right, how = 'right', on = 'KEY')\r\n",
        "df_merge_right\r\n",
        "\r\n",
        "#- SQL : INNER JOIN\r\n",
        "df_merge_inner = pd.merge(df_left, df_right, how = 'inner', on = 'KEY')\r\n",
        "df_merge_inner\r\n",
        "\r\n",
        "#- SQL : OUTER JOIN\r\n",
        "df_merge_outer = pd.merge(df_left, df_right, how = 'outer', on = 'KEY')\r\n",
        "df_merge_outer\r\n",
        "\r\n",
        "#- * indicator = True\r\n",
        "#- 병합된 이후에 left_only, right_only, both 등의 데이터의 출처를 알 수 있는 컬럼 추가\r\n",
        "pd_ind = pd.merge(df_left, df_right, how = 'outer', on = \"KEY\", indicator = True)\r\n",
        "pd_ind\r\n",
        "\r\n",
        "#- indicator parameter 에 문자열을 지정해주면, 해당 문자열 이름의 컬럼으로 indicator 생성\r\n",
        "pd_ind = pd.merge(df_left, df_right, how = 'outer', on = \"KEY\", indicator = \"indicator\")\r\n",
        "pd_ind\r\n",
        "\r\n",
        "#- 컬럼명이 중복될 경우, 접미사 붙이기 : suffixes = ('_x', '_y')\r\n",
        "pd_is_suffix = pd.merge(df_left, df_right, how = 'outer', on = \"KEY\", indicator = \"indicator\", suffixes = ('_x', '_y'))\r\n",
        "pd_is_suffix"
      ],
      "execution_count": null,
      "outputs": []
    },
    {
      "cell_type": "markdown",
      "metadata": {
        "id": "LspTumkSTvwg"
      },
      "source": [
        "### DataFrame을 index 기준으로 합치기 : merge, join or index"
      ]
    },
    {
      "cell_type": "code",
      "metadata": {
        "id": "7g-JSlHWVvbu"
      },
      "source": [
        "import pandas as pd\r\n",
        "df_left = pd.DataFrame({\r\n",
        "    'A': ['A0', 'A1', 'A2', 'A3'],\r\n",
        "    'B': ['B0', 'B1', 'B2', 'B3']},\r\n",
        "    index = ['K0', 'K1', 'K2', 'K3'])\r\n",
        "\r\n",
        "df_right = pd.DataFrame({\r\n",
        "    'C': ['C2', 'C3', 'C4', 'C5'],\r\n",
        "    'D': ['D2', 'D3', 'D4', 'D5']},\r\n",
        "    index = ['K2', 'K3', 'K4', 'K5'])\r\n",
        "\r\n",
        "#- index 를 기준으로 left join 하기\r\n",
        "pd.merge(df_left, df_right, left_index = True, right_index = True, how = 'left') # 1- merge function\r\n",
        "df_left.join(df_right, how = 'left')                                             # 2- .join function\r\n",
        "\r\n",
        "#- index 를 기준으로 right join 하기\r\n",
        "pd.merge(df_left, df_right, left_index = True, right_index = True, how = 'right') # 1- merge function\r\n",
        "df_left.join(df_right, how = 'right')                                             # 2- .join function\r\n",
        "\r\n",
        "#- index 를 기준으로 inner join 하기\r\n",
        "pd.merge(df_left, df_right, left_index = True, right_index = True, how = 'inner') # 1- merge function\r\n",
        "df_left.join(df_right, how = 'inner')                                             # 2- .join function\r\n",
        "\r\n",
        "#- index 를 기준으로 outer join 하기\r\n",
        "pd.merge(df_left, df_right, left_index = True, right_index = True, how = 'outer') # 1- merge function\r\n",
        "df_left.join(df_right, how = 'outer')                                             # 2- .join function\r\n",
        "\r\n",
        "#- index와 key를 혼합해서 DataFrame 합치기\r\n",
        "#- (Joining key columns one an index)\r\n",
        "\r\n",
        "df_left = pd.DataFrame({\r\n",
        "    'KEY': ['K0', 'K1', 'K2', 'K3'],\r\n",
        "    'A': ['A0', 'A1', 'A2', 'A3'],\r\n",
        "    'B': ['B0', 'B1', 'B2', 'B3']})\r\n",
        "\r\n",
        "df_right = pd.DataFrame({\r\n",
        "    'C': ['C2', 'C3', 'C4', 'C5'],\r\n",
        "    'D': ['D2', 'D3', 'D4', 'D5']},\r\n",
        "    index = ['K2', 'K3', 'K4', 'K5'])\r\n",
        "\r\n",
        "pd.merge(df_left, df_right, left_on = 'KEY', right_index = True, how = 'left')"
      ],
      "execution_count": null,
      "outputs": []
    },
    {
      "cell_type": "markdown",
      "metadata": {
        "id": "_orMqQu-Pomc"
      },
      "source": [
        "### 유일한 값 찾기 : pd.Series.unique(), pd.Series.value_counts()"
      ]
    },
    {
      "cell_type": "code",
      "metadata": {
        "id": "9aHymBwVPvaU"
      },
      "source": [
        "import pandas as pd\r\n",
        "import numpy as np\r\n",
        "df = pd.DataFrame({\r\n",
        "    'A': ['A1', 'A1', 'A2', 'A2', 'A3', 'A3']- ,\r\n",
        "    'B': ['B1', 'B1', 'B1', 'B2','B2',np.nan],\r\n",
        "    'C': [1, 1, 3, 4, 4, 4]})\r\n",
        "df['A'].unique()\r\n",
        "df['B'].unique()"
      ],
      "execution_count": null,
      "outputs": []
    },
    {
      "cell_type": "markdown",
      "metadata": {
        "id": "5pTYzflASsFp"
      },
      "source": [
        "###  유일한 값별로 개수 세기 : pd.Series.value_counts()\r\n",
        "normalize=False, # False면 개수, True면 상대 비율 구함  \r\n",
        "sort=True, # True면 개수 기준 정렬, False면 유일한 값 기준 정렬  \r\n",
        "ascending=False, # False면 내림차순 정렬, True면 오름차순 정렬  \r\n",
        "bins=None, # None이면 유일값 기준 개수, None아니면 Bins Group별 개수  \r\n",
        "dropna=True # True면 NaN 무시, False면 유일값에 NaN 포함)  "
      ]
    },
    {
      "cell_type": "code",
      "metadata": {
        "colab": {
          "base_uri": "https://localhost:8080/"
        },
        "id": "CR4-eimITBEc",
        "outputId": "60b92524-f9d3-41fd-cf2f-71d3f0e36777"
      },
      "source": [
        "df['A'].value_counts()\r\n",
        "df['B'].value_counts(normalize = True)\r\n",
        "df['B'].value_counts(sort = True, ascending= True)\r\n",
        "\r\n",
        "# 결측값을 유일한 값에 포함할지 여부 : dropna paramter\r\n",
        "df['B'].value_counts(dropna = True)\r\n",
        "df['B'].value_counts(dropna = False)\r\n",
        "\r\n",
        "# Bin groups 별 개수 세기 : bins = [,,,]\r\n",
        "df['C'].value_counts(bins = [0, 1, 2, 3, 4, 5], sort = False)\r\n",
        "out = pd.cut(df['C'], bins = [0, 1, 2, 3, 4, 5])"
      ],
      "execution_count": null,
      "outputs": [
        {
          "output_type": "execute_result",
          "data": {
            "text/plain": [
              "0    (0, 1]\n",
              "1    (0, 1]\n",
              "2    (2, 3]\n",
              "3    (3, 4]\n",
              "4    (3, 4]\n",
              "5    (3, 4]\n",
              "Name: C, dtype: category\n",
              "Categories (5, interval[int64]): [(0, 1] < (1, 2] < (2, 3] < (3, 4] < (4, 5]]"
            ]
          },
          "metadata": {
            "tags": []
          },
          "execution_count": 18
        }
      ]
    }
  ]
}