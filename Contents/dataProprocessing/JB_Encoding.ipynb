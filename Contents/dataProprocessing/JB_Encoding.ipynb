{
  "nbformat": 4,
  "nbformat_minor": 0,
  "metadata": {
    "colab": {
      "name": "JB_Encoding.ipynb",
      "provenance": [],
      "collapsed_sections": []
    },
    "kernelspec": {
      "name": "python3",
      "display_name": "Python 3"
    }
  },
  "cells": [
    {
      "cell_type": "markdown",
      "metadata": {
        "id": "Fn0MgX4G2YjC"
      },
      "source": [
        "### 이항변수화 변환(feature binarization)\r\n",
        "- 성공확률이 p인 베르누이 시행을 n번 반복했을 때 성공하는 횟수를 X라 하면, 확률 변수 X는 모수 n과 p인 이항분포를 따른다고 함\r\n",
        "- sklearn.preprocessing.Binarizer() 함수를 이용해서 특정 임계값을 기준으로 0,1로 변환\r\n"
      ]
    },
    {
      "cell_type": "code",
      "metadata": {
        "colab": {
          "base_uri": "https://localhost:8080/"
        },
        "id": "b07k7aJz2fHy",
        "outputId": "74653648-8022-4b72-8ef6-6c76722b9e70"
      },
      "source": [
        "from sklearn.preprocessing import Binarizer, binarize\r\n",
        "import numpy as np\r\n",
        "\r\n",
        "np.random.seed(42)\r\n",
        "x = np.array(np.random.randn(12).reshape(4, 3))\r\n",
        "\r\n",
        "# (1) Binarizer()를 이용한 이항변수화\r\n",
        "binarizer = Binarizer().fit(x.reshape(-1, 1))\r\n",
        "binarizer.transform(x)\r\n",
        "\r\n",
        "# threshold --> 2.0 으로 변환\r\n",
        "binarizer = Binarizer(threshold = 2.0).fit(x.reshape(-1, 1))\r\n",
        "binarizer.transform(x)\r\n",
        "\r\n",
        "# (2) sklearn.preprocessing.binarize() 를 이용한 이항변수화\r\n",
        "# --> trasform 함수가 없음\r\n",
        "binarize(x)\r\n",
        "binarize(x, threshold = 2.0)\r\n",
        "binarize(x, threshold = 2.0, copy = False) # 원본 값 자체가 이항변수화됨"
      ],
      "execution_count": null,
      "outputs": [
        {
          "output_type": "execute_result",
          "data": {
            "text/plain": [
              "array([[0., 0., 0.],\n",
              "       [0., 0., 0.],\n",
              "       [0., 0., 0.],\n",
              "       [0., 0., 0.]])"
            ]
          },
          "metadata": {
            "tags": []
          },
          "execution_count": 5
        }
      ]
    },
    {
      "cell_type": "markdown",
      "metadata": {
        "id": "mciekkGM2gGX"
      },
      "source": [
        "### 범주형 변수 oneHotEcoding"
      ]
    },
    {
      "cell_type": "code",
      "metadata": {
        "colab": {
          "base_uri": "https://localhost:8080/"
        },
        "id": "Rfmdlqac2iuu",
        "outputId": "1573f502-4dee-48c7-d23b-eaf0eb6d6620"
      },
      "source": [
        "from sklearn.preprocessing import OneHotEncoder\r\n",
        "import numpy as np\r\n",
        "data = np.array([[0, 0, 0], [0, 1, 1], [0, 2, 2], [1, 0, 3], [1, 1, 4]])\r\n",
        "enc = OneHotEncoder()\r\n",
        "enc.fit(data)\r\n",
        "enc.transform(np.array([[1, 2, 4]])).toarray()"
      ],
      "execution_count": null,
      "outputs": [
        {
          "output_type": "execute_result",
          "data": {
            "text/plain": [
              "array([[0., 1., 0., 0., 1., 0., 0., 0., 0., 1.]])"
            ]
          },
          "metadata": {
            "tags": []
          },
          "execution_count": 2
        }
      ]
    },
    {
      "cell_type": "markdown",
      "metadata": {
        "id": "Nqg2cIrB2j9e"
      },
      "source": [
        "### 연속형 변수의 이산형화 \r\n",
        "- 이산형화는 2개 이상의 범주(category)를 가지는 변수로 변환하는 것을 말함\r\n",
        "  - np.digitize(data, bins)\r\n",
        "  - pd.get_dummies()\r\n",
        "  - np.where()"
      ]
    },
    {
      "cell_type": "code",
      "metadata": {
        "colab": {
          "base_uri": "https://localhost:8080/"
        },
        "id": "JoxUjpQG4PKC",
        "outputId": "18078da2-f24b-4f2d-9c17-67a4a5839f1c"
      },
      "source": [
        "import numpy as np\r\n",
        "import pandas as pd\r\n",
        "from pandas import DataFrame\r\n",
        "np.random.seed(10)\r\n",
        "df = DataFrame({\r\n",
        "  'C1': np.random.randn(20),\r\n",
        "  'C2': ['a', 'a', 'a', 'a', 'a', 'a', 'a', 'a', 'a', 'a', 'b', 'b', 'b', 'b', 'b', 'b', 'b', 'b', 'b', 'b']})\r\n",
        "\r\n",
        "# (1) np.digitize function을 이용한 연속형 변수의 이산형화\r\n",
        "bins = np.linspace(np.min(df['C1']), np.max(df['C1']), 10)\r\n",
        "df['C1_bin'] = np.digitize(df['C1'], bins)\r\n",
        "\r\n",
        "# 이산형화 시킨 변수의 활용\r\n",
        "# - 이산형 데이터별 요약통계량 계산\r\n",
        "df.groupby('C1_bin')['C1'].size()\r\n",
        "df.groupby('C1_bin')['C1'].mean()\r\n",
        "df.groupby('C1_bin')['C1'].std()\r\n",
        "df.groupby('C1_bin')['C2'].value_counts()\r\n",
        "\r\n",
        "# (2) pd.get_dummies()를 이용해 가변수(dummy var) 만들기\r\n",
        "# - prefix     : add prefix\r\n",
        "# - drop_first : avoid dummy trap \r\n",
        "pd.get_dummies(df['C1_bin'], prefix = 'C1')\r\n",
        "pd.get_dummies(df['C1_bin'], prefix = 'C1', drop_first= True)\r\n",
        "\r\n",
        "# (3) np.where 를 이용한 연속형 변수의 이산형화\r\n",
        "# - 좀 더 복잡한 로직을 처리할 수 있게 해줌\r\n",
        "df['high_low'] = np.where(df['C1'] >= df['C1'].mean(), 'high', 'low')"
      ],
      "execution_count": null,
      "outputs": [
        {
          "output_type": "execute_result",
          "data": {
            "text/plain": [
              "array(['high', 'high', 'low', 'low', 'high', 'low', 'high', 'low', 'low',\n",
              "       'low', 'high', 'high', 'low', 'high', 'high', 'high', 'low',\n",
              "       'high', 'high', 'low'], dtype='<U4')"
            ]
          },
          "metadata": {
            "tags": []
          },
          "execution_count": 12
        }
      ]
    }
  ]
}