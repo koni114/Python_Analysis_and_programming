{
  "nbformat": 4,
  "nbformat_minor": 0,
  "metadata": {
    "colab": {
      "name": "JB_LoadDB.ipynb",
      "provenance": [],
      "collapsed_sections": []
    },
    "kernelspec": {
      "name": "python3",
      "display_name": "Python 3"
    }
  },
  "cells": [
    {
      "cell_type": "markdown",
      "metadata": {
        "id": "SL4caU27bTnl"
      },
      "source": [
        "## DB에 Python으로 접속하여 SQL Query를 이용하여 pandas DataFrame 만들기"
      ]
    },
    {
      "cell_type": "markdown",
      "metadata": {
        "id": "hEcZfe_oc4_r"
      },
      "source": [
        "### Oracle DB에서 pandas DataFrame 만들기"
      ]
    },
    {
      "cell_type": "code",
      "metadata": {
        "id": "OYxpExEzd8gU"
      },
      "source": [
        "def query_OracleSQL(query):\r\n",
        "  import pandas as pd\r\n",
        "  import cx_Oracle as co\r\n",
        "  from datetime import datetime\r\n",
        "\r\n",
        "  start_tm = datetime.now()\r\n",
        "\r\n",
        "  # DB Connection\r\n",
        "  dsn_tns = co.makedsn(\"Host Name\", \"Post Number\", service_name = \"service_name\")\r\n",
        "  conn = co.connect(user=\"UserName\", password = \"Personal Password\", dsn = dnsStr)\r\n",
        "\r\n",
        "  # Get a dataframe\r\n",
        "  query_result = pd.read_sql(query, conn)\r\n",
        "\r\n",
        "  # Close connection\r\n",
        "  conn.close()\r\n",
        "\r\n",
        "  end_tm = datetime.now()\r\n",
        "\r\n",
        "  print(\"Start Time : \", start_tm)\r\n",
        "  print(\"End TIme : \", end_tm)\r\n",
        "  print(\"ELAP :\",  str(end_tm - start_tm))\r\n",
        "\r\n",
        "  return query_result\r\n",
        "\r\n",
        "##-- SQL query\r\n",
        "query = \"\"\"\r\n",
        "     SELECT var1, var2, ymd, count(*) as cnt\r\n",
        "          FROM myOracleDB\r\n",
        "          WHERE ymd BETWEEN\r\n",
        "               to_date('2016-11-22T00:00:00', 'YYYY-MM-DD\"T\"HH24:MI:SS')\r\n",
        "               AND\r\n",
        "               to_date('2016-11-22T23:59:59', 'YYYY-MM-DD\"T\"HH24:MI:SS')\r\n",
        "GROUP BY var1\r\n",
        "ORDER BY cnt\r\n",
        "               \"\"\""
      ],
      "execution_count": null,
      "outputs": []
    },
    {
      "cell_type": "markdown",
      "metadata": {
        "id": "lcUx7Nj3fV73"
      },
      "source": [
        "### PostgreSQL에 Python으로 접속하여 SQL query 해서 pandas DataFrame 만들기"
      ]
    },
    {
      "cell_type": "code",
      "metadata": {
        "id": "IE86loq1gFPU"
      },
      "source": [
        "def query_postgreSQL(query):\r\n",
        "  import pandas as pd\r\n",
        "  import psycopg2 as pg\r\n",
        "  from datetime import datetime\r\n",
        "\r\n",
        "  conn = pg.connect(host = \"\",\r\n",
        "                    port = '',\r\n",
        "                    dbname = '',\r\n",
        "                    user = '',\r\n",
        "                    password = '')\r\n",
        "\r\n",
        "  start_tm = datetime.now()\r\n",
        "\r\n",
        "  query_result = pd.read_sql(conn, query)\r\n",
        "\r\n",
        "  end_tm = datetime.now()\r\n",
        "\r\n",
        "  print(\"START: \", start_tm)\r\n",
        "  print(\"END: \", end_tm)\r\n",
        "  print(\"ELAP:\", start_tm - end_tm)\r\n",
        "\r\n",
        "  return query_result"
      ],
      "execution_count": null,
      "outputs": []
    }
  ]
}